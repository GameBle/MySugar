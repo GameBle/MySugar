{
 "cells": [
  {
   "cell_type": "code",
   "execution_count": null,
   "id": "76e8c544",
   "metadata": {
    "_cell_guid": "b1076dfc-b9ad-4769-8c92-a6c4dae69d19",
    "_uuid": "8f2839f25d086af736a60e9eeb907d3b93b6e0e5",
    "execution": {
     "iopub.execute_input": "2024-05-06T15:09:01.537439Z",
     "iopub.status.busy": "2024-05-06T15:09:01.537046Z",
     "iopub.status.idle": "2024-05-06T15:09:02.374050Z",
     "shell.execute_reply": "2024-05-06T15:09:02.371170Z"
    },
    "papermill": {
     "duration": 0.848147,
     "end_time": "2024-05-06T15:09:02.376345",
     "exception": false,
     "start_time": "2024-05-06T15:09:01.528198",
     "status": "completed"
    },
    "tags": []
   },
   "outputs": [
    {
     "ename": "",
     "evalue": "",
     "output_type": "error",
     "traceback": [
      "\u001b[1;31mRunning cells with 'Python 3.10.11 64-bit (microsoft store)' requires ipykernel package.\n",
      "\u001b[1;31mRun the following command to install 'ipykernel' into the Python environment. \n",
      "\u001b[1;31mCommand: '\"c:/Users/ALI SAQUIB RAZA/AppData/Local/Microsoft/WindowsApps/python3.10.exe\" -m pip install ipykernel -U --force-reinstall'"
     ]
    }
   ],
   "source": [
    "# This Python 3 environment comes with many helpful analytics libraries installed\n",
    "# It is defined by the kaggle/python Docker image: https://github.com/kaggle/docker-python\n",
    "# For example, here's several helpful packages to load\n",
    "\n",
    "import numpy as np # linear algebra\n",
    "import pandas as pd # data processing, CSV file I/O (e.g. pd.read_csv)\n",
    "\n",
    "\n",
    "# Input data files are available in the read-only \"../input/\" directory\n",
    "# For example, running this (by clicking run or pressing Shift+Enter) will list all files under the input directory\n",
    "\n",
    "import os\n",
    "for dirname, _, filenames in os.walk('/kaggle/input'):\n",
    "    for filename in filenames:\n",
    "        print(os.path.join(dirname, filename))\n",
    "\n",
    "# You can write up to 20GB to the current directory (/kaggle/working/) that gets preserved as output when you create a version using \"Save & Run All\" \n",
    "# You can also write temporary files to /kaggle/temp/, but they won't be saved outside of the current session"
   ]
  },
  {
   "cell_type": "code",
   "execution_count": null,
   "id": "9f84d39c",
   "metadata": {
    "execution": {
     "iopub.execute_input": "2024-05-06T15:09:02.391213Z",
     "iopub.status.busy": "2024-05-06T15:09:02.390733Z",
     "iopub.status.idle": "2024-05-06T15:09:02.436565Z",
     "shell.execute_reply": "2024-05-06T15:09:02.435592Z"
    },
    "papermill": {
     "duration": 0.055654,
     "end_time": "2024-05-06T15:09:02.438677",
     "exception": false,
     "start_time": "2024-05-06T15:09:02.383023",
     "status": "completed"
    },
    "tags": []
   },
   "outputs": [
    {
     "ename": "",
     "evalue": "",
     "output_type": "error",
     "traceback": [
      "\u001b[1;31mRunning cells with 'Python 3.10.11 64-bit (microsoft store)' requires ipykernel package.\n",
      "\u001b[1;31mRun the following command to install 'ipykernel' into the Python environment. \n",
      "\u001b[1;31mCommand: '\"c:/Users/ALI SAQUIB RAZA/AppData/Local/Microsoft/WindowsApps/python3.10.exe\" -m pip install ipykernel -U --force-reinstall'"
     ]
    }
   ],
   "source": [
    "data = pd.read_csv('/kaggle/input/diabetes-dataset/diabetes.csv')\n",
    "data"
   ]
  },
  {
   "cell_type": "markdown",
   "id": "b17a2669",
   "metadata": {
    "papermill": {
     "duration": 0.006544,
     "end_time": "2024-05-06T15:09:02.452276",
     "exception": false,
     "start_time": "2024-05-06T15:09:02.445732",
     "status": "completed"
    },
    "tags": []
   },
   "source": [
    "# **Exploring Data**"
   ]
  },
  {
   "cell_type": "code",
   "execution_count": null,
   "id": "f68ef43f",
   "metadata": {
    "execution": {
     "iopub.execute_input": "2024-05-06T15:09:02.467527Z",
     "iopub.status.busy": "2024-05-06T15:09:02.466702Z",
     "iopub.status.idle": "2024-05-06T15:09:03.532861Z",
     "shell.execute_reply": "2024-05-06T15:09:03.531773Z"
    },
    "papermill": {
     "duration": 1.076315,
     "end_time": "2024-05-06T15:09:03.535200",
     "exception": false,
     "start_time": "2024-05-06T15:09:02.458885",
     "status": "completed"
    },
    "tags": []
   },
   "outputs": [
    {
     "ename": "",
     "evalue": "",
     "output_type": "error",
     "traceback": [
      "\u001b[1;31mRunning cells with 'Python 3.10.11 64-bit (microsoft store)' requires ipykernel package.\n",
      "\u001b[1;31mRun the following command to install 'ipykernel' into the Python environment. \n",
      "\u001b[1;31mCommand: '\"c:/Users/ALI SAQUIB RAZA/AppData/Local/Microsoft/WindowsApps/python3.10.exe\" -m pip install ipykernel -U --force-reinstall'"
     ]
    }
   ],
   "source": [
    "from time import time # to calculate the time taken by different machine learning models to train for different algorithms\n",
    "from IPython.display import display # Allows the use of display() for dataframes\n",
    "import matplotlib.pyplot as plt\n",
    "import sklearn"
   ]
  },
  {
   "cell_type": "markdown",
   "id": "1b7dd1f9",
   "metadata": {
    "papermill": {
     "duration": 0.006382,
     "end_time": "2024-05-06T15:09:03.548373",
     "exception": false,
     "start_time": "2024-05-06T15:09:03.541991",
     "status": "completed"
    },
    "tags": []
   },
   "source": [
    "# **Preparing data**"
   ]
  },
  {
   "cell_type": "code",
   "execution_count": null,
   "id": "1c3da896",
   "metadata": {
    "execution": {
     "iopub.execute_input": "2024-05-06T15:09:03.563357Z",
     "iopub.status.busy": "2024-05-06T15:09:03.562736Z",
     "iopub.status.idle": "2024-05-06T15:09:03.570659Z",
     "shell.execute_reply": "2024-05-06T15:09:03.569660Z"
    },
    "papermill": {
     "duration": 0.017614,
     "end_time": "2024-05-06T15:09:03.572472",
     "exception": false,
     "start_time": "2024-05-06T15:09:03.554858",
     "status": "completed"
    },
    "tags": []
   },
   "outputs": [
    {
     "ename": "",
     "evalue": "",
     "output_type": "error",
     "traceback": [
      "\u001b[1;31mRunning cells with 'Python 3.10.11 64-bit (microsoft store)' requires ipykernel package.\n",
      "\u001b[1;31mRun the following command to install 'ipykernel' into the Python environment. \n",
      "\u001b[1;31mCommand: '\"c:/Users/ALI SAQUIB RAZA/AppData/Local/Microsoft/WindowsApps/python3.10.exe\" -m pip install ipykernel -U --force-reinstall'"
     ]
    }
   ],
   "source": [
    "# Filling missing values\n",
    "\n",
    "# Count the number of missing values in the skin thickness coloumn\n",
    "print('Number of missing values in skin thickness coloumn: ', (data['SkinThickness'] == 0).sum())\n",
    "\n",
    "# Count the number of missing values in the insulin coloumn\n",
    "\n",
    "print('Number of missing values in insulin coloumn: ', (data['Insulin'] == 0).sum())"
   ]
  },
  {
   "cell_type": "code",
   "execution_count": null,
   "id": "64ebb3f8",
   "metadata": {
    "execution": {
     "iopub.execute_input": "2024-05-06T15:09:03.588382Z",
     "iopub.status.busy": "2024-05-06T15:09:03.588013Z",
     "iopub.status.idle": "2024-05-06T15:09:03.594998Z",
     "shell.execute_reply": "2024-05-06T15:09:03.594244Z"
    },
    "papermill": {
     "duration": 0.017644,
     "end_time": "2024-05-06T15:09:03.596763",
     "exception": false,
     "start_time": "2024-05-06T15:09:03.579119",
     "status": "completed"
    },
    "tags": []
   },
   "outputs": [
    {
     "ename": "",
     "evalue": "",
     "output_type": "error",
     "traceback": [
      "\u001b[1;31mRunning cells with 'Python 3.10.11 64-bit (microsoft store)' requires ipykernel package.\n",
      "\u001b[1;31mRun the following command to install 'ipykernel' into the Python environment. \n",
      "\u001b[1;31mCommand: '\"c:/Users/ALI SAQUIB RAZA/AppData/Local/Microsoft/WindowsApps/python3.10.exe\" -m pip install ipykernel -U --force-reinstall'"
     ]
    }
   ],
   "source": [
    "# Replacing zeros in both the coloumns with mean\n",
    "data.loc[data['SkinThickness'] == 0, 'SkinThickness'] = data['SkinThickness'].mean().astype(np.int64)\n",
    "data.loc[data['Insulin'] == 0, 'Insulin'] = data['Insulin'].mean().astype(np.int64)"
   ]
  },
  {
   "cell_type": "code",
   "execution_count": null,
   "id": "ce874cc9",
   "metadata": {
    "execution": {
     "iopub.execute_input": "2024-05-06T15:09:03.611572Z",
     "iopub.status.busy": "2024-05-06T15:09:03.611020Z",
     "iopub.status.idle": "2024-05-06T15:09:03.617561Z",
     "shell.execute_reply": "2024-05-06T15:09:03.616609Z"
    },
    "papermill": {
     "duration": 0.016102,
     "end_time": "2024-05-06T15:09:03.619478",
     "exception": false,
     "start_time": "2024-05-06T15:09:03.603376",
     "status": "completed"
    },
    "tags": []
   },
   "outputs": [
    {
     "ename": "",
     "evalue": "",
     "output_type": "error",
     "traceback": [
      "\u001b[1;31mRunning cells with 'Python 3.10.11 64-bit (microsoft store)' requires ipykernel package.\n",
      "\u001b[1;31mRun the following command to install 'ipykernel' into the Python environment. \n",
      "\u001b[1;31mCommand: '\"c:/Users/ALI SAQUIB RAZA/AppData/Local/Microsoft/WindowsApps/python3.10.exe\" -m pip install ipykernel -U --force-reinstall'"
     ]
    }
   ],
   "source": [
    "# check replacement\n",
    "# Count the number of missing values in the skin thickness coloumn\n",
    "print('Number of missing values in skin thickness coloumn: ', (data['SkinThickness'] == 0).sum())\n",
    "\n",
    "# Count the number of missing values in the insulin coloumn\n",
    "\n",
    "print('Number of missing values in insulin coloumn: ', (data['Insulin'] == 0).sum())"
   ]
  },
  {
   "cell_type": "code",
   "execution_count": null,
   "id": "f39d539b",
   "metadata": {
    "execution": {
     "iopub.execute_input": "2024-05-06T15:09:03.634610Z",
     "iopub.status.busy": "2024-05-06T15:09:03.634222Z",
     "iopub.status.idle": "2024-05-06T15:09:03.647189Z",
     "shell.execute_reply": "2024-05-06T15:09:03.646249Z"
    },
    "papermill": {
     "duration": 0.022881,
     "end_time": "2024-05-06T15:09:03.649229",
     "exception": false,
     "start_time": "2024-05-06T15:09:03.626348",
     "status": "completed"
    },
    "tags": []
   },
   "outputs": [
    {
     "ename": "",
     "evalue": "",
     "output_type": "error",
     "traceback": [
      "\u001b[1;31mRunning cells with 'Python 3.10.11 64-bit (microsoft store)' requires ipykernel package.\n",
      "\u001b[1;31mRun the following command to install 'ipykernel' into the Python environment. \n",
      "\u001b[1;31mCommand: '\"c:/Users/ALI SAQUIB RAZA/AppData/Local/Microsoft/WindowsApps/python3.10.exe\" -m pip install ipykernel -U --force-reinstall'"
     ]
    }
   ],
   "source": [
    "data.head()"
   ]
  },
  {
   "cell_type": "code",
   "execution_count": null,
   "id": "eba1cd13",
   "metadata": {
    "execution": {
     "iopub.execute_input": "2024-05-06T15:09:03.665562Z",
     "iopub.status.busy": "2024-05-06T15:09:03.665192Z",
     "iopub.status.idle": "2024-05-06T15:09:03.673505Z",
     "shell.execute_reply": "2024-05-06T15:09:03.672420Z"
    },
    "papermill": {
     "duration": 0.018851,
     "end_time": "2024-05-06T15:09:03.675621",
     "exception": false,
     "start_time": "2024-05-06T15:09:03.656770",
     "status": "completed"
    },
    "tags": []
   },
   "outputs": [
    {
     "ename": "",
     "evalue": "",
     "output_type": "error",
     "traceback": [
      "\u001b[1;31mRunning cells with 'Python 3.10.11 64-bit (microsoft store)' requires ipykernel package.\n",
      "\u001b[1;31mRun the following command to install 'ipykernel' into the Python environment. \n",
      "\u001b[1;31mCommand: '\"c:/Users/ALI SAQUIB RAZA/AppData/Local/Microsoft/WindowsApps/python3.10.exe\" -m pip install ipykernel -U --force-reinstall'"
     ]
    }
   ],
   "source": [
    "# Total number of records\n",
    "n_records = len(data.index)\n",
    "\n",
    "# Number of records where outcome = 1\n",
    "n_1 = data[data.Outcome == 1].shape[0]\n",
    "\n",
    "# Number of records where outcome = 0\n",
    "n_0 = data[data.Outcome == 0].shape[0]\n",
    "\n",
    "#percentage of records where outcome = 1\n",
    "n1_perc = (n_1/n_records)*100\n",
    "\n",
    "print(n1_perc)"
   ]
  },
  {
   "cell_type": "code",
   "execution_count": null,
   "id": "047540d8",
   "metadata": {
    "execution": {
     "iopub.execute_input": "2024-05-06T15:09:03.691943Z",
     "iopub.status.busy": "2024-05-06T15:09:03.691591Z",
     "iopub.status.idle": "2024-05-06T15:09:04.242096Z",
     "shell.execute_reply": "2024-05-06T15:09:04.241022Z"
    },
    "papermill": {
     "duration": 0.561537,
     "end_time": "2024-05-06T15:09:04.244574",
     "exception": false,
     "start_time": "2024-05-06T15:09:03.683037",
     "status": "completed"
    },
    "tags": []
   },
   "outputs": [
    {
     "ename": "",
     "evalue": "",
     "output_type": "error",
     "traceback": [
      "\u001b[1;31mRunning cells with 'Python 3.10.11 64-bit (microsoft store)' requires ipykernel package.\n",
      "\u001b[1;31mRun the following command to install 'ipykernel' into the Python environment. \n",
      "\u001b[1;31mCommand: '\"c:/Users/ALI SAQUIB RAZA/AppData/Local/Microsoft/WindowsApps/python3.10.exe\" -m pip install ipykernel -U --force-reinstall'"
     ]
    }
   ],
   "source": [
    "# Split into target and features data\n",
    "\n",
    "outcome_r = data['Outcome']\n",
    "features_r = data.drop('Outcome', axis = 1)\n",
    "\n",
    "# Visualise the skewed continuous features of original data\n",
    "fig = plt.figure(figsize = (11,5))\n",
    "\n",
    "# Skewed feature plotting\n",
    "\n",
    "for i,feature in enumerate(['SkinThickness','Insulin']):\n",
    "    ax = fig.add_subplot(1,2,i+1)\n",
    "    ax.hist(data[feature], bins = 25, color = '#00A0A0')\n",
    "    ax.set_title(\"'%s' Feature Distribution\"%(feature), fontsize = 14)\n",
    "    ax.set_xlabel(\"value\")\n",
    "    ax.set_ylabel(\"number of records\")"
   ]
  },
  {
   "cell_type": "code",
   "execution_count": null,
   "id": "a708b107",
   "metadata": {
    "execution": {
     "iopub.execute_input": "2024-05-06T15:09:04.261918Z",
     "iopub.status.busy": "2024-05-06T15:09:04.261289Z",
     "iopub.status.idle": "2024-05-06T15:09:04.270952Z",
     "shell.execute_reply": "2024-05-06T15:09:04.270112Z"
    },
    "papermill": {
     "duration": 0.020598,
     "end_time": "2024-05-06T15:09:04.272931",
     "exception": false,
     "start_time": "2024-05-06T15:09:04.252333",
     "status": "completed"
    },
    "tags": []
   },
   "outputs": [
    {
     "ename": "",
     "evalue": "",
     "output_type": "error",
     "traceback": [
      "\u001b[1;31mRunning cells with 'Python 3.10.11 64-bit (microsoft store)' requires ipykernel package.\n",
      "\u001b[1;31mRun the following command to install 'ipykernel' into the Python environment. \n",
      "\u001b[1;31mCommand: '\"c:/Users/ALI SAQUIB RAZA/AppData/Local/Microsoft/WindowsApps/python3.10.exe\" -m pip install ipykernel -U --force-reinstall'"
     ]
    }
   ],
   "source": [
    "# Log transformation of the skewed functions\n",
    "skewed = ['SkinThickness','Insulin']\n",
    "features_log_transformed = pd.DataFrame(data = features_r)\n",
    "features_log_transformed[skewed] = features_r[skewed].apply(lambda x: np.log(x+1))"
   ]
  },
  {
   "cell_type": "code",
   "execution_count": null,
   "id": "ba72ae52",
   "metadata": {
    "execution": {
     "iopub.execute_input": "2024-05-06T15:09:04.290124Z",
     "iopub.status.busy": "2024-05-06T15:09:04.289556Z",
     "iopub.status.idle": "2024-05-06T15:09:04.338153Z",
     "shell.execute_reply": "2024-05-06T15:09:04.337095Z"
    },
    "papermill": {
     "duration": 0.059534,
     "end_time": "2024-05-06T15:09:04.340202",
     "exception": false,
     "start_time": "2024-05-06T15:09:04.280668",
     "status": "completed"
    },
    "tags": []
   },
   "outputs": [
    {
     "ename": "",
     "evalue": "",
     "output_type": "error",
     "traceback": [
      "\u001b[1;31mRunning cells with 'Python 3.10.11 64-bit (microsoft store)' requires ipykernel package.\n",
      "\u001b[1;31mRun the following command to install 'ipykernel' into the Python environment. \n",
      "\u001b[1;31mCommand: '\"c:/Users/ALI SAQUIB RAZA/AppData/Local/Microsoft/WindowsApps/python3.10.exe\" -m pip install ipykernel -U --force-reinstall'"
     ]
    }
   ],
   "source": [
    "# Scaling the data\n",
    "from sklearn.preprocessing import MinMaxScaler\n",
    "# initialise a scaler then apply it to the features\n",
    "scaler = MinMaxScaler()\n",
    "numerical = ['Insulin','SkinThickness','DiabetesPedigreeFunction']\n",
    "\n",
    "features_log_minmax_transform = pd.DataFrame(data = features_log_transformed)\n",
    "features_log_minmax_transform[numerical] = scaler.fit_transform(features_log_transformed[numerical])\n",
    "\n",
    "features_final = features_log_minmax_transform\n",
    "features_final.head()"
   ]
  },
  {
   "cell_type": "markdown",
   "id": "25fd4e2a",
   "metadata": {
    "papermill": {
     "duration": 0.00743,
     "end_time": "2024-05-06T15:09:04.355512",
     "exception": false,
     "start_time": "2024-05-06T15:09:04.348082",
     "status": "completed"
    },
    "tags": []
   },
   "source": [
    "# **Training and Testing Data**"
   ]
  },
  {
   "cell_type": "code",
   "execution_count": null,
   "id": "cfe0fca9",
   "metadata": {
    "execution": {
     "iopub.execute_input": "2024-05-06T15:09:04.372788Z",
     "iopub.status.busy": "2024-05-06T15:09:04.372174Z",
     "iopub.status.idle": "2024-05-06T15:09:04.554342Z",
     "shell.execute_reply": "2024-05-06T15:09:04.553285Z"
    },
    "papermill": {
     "duration": 0.193609,
     "end_time": "2024-05-06T15:09:04.556712",
     "exception": false,
     "start_time": "2024-05-06T15:09:04.363103",
     "status": "completed"
    },
    "tags": []
   },
   "outputs": [
    {
     "ename": "",
     "evalue": "",
     "output_type": "error",
     "traceback": [
      "\u001b[1;31mRunning cells with 'Python 3.10.11 64-bit (microsoft store)' requires ipykernel package.\n",
      "\u001b[1;31mRun the following command to install 'ipykernel' into the Python environment. \n",
      "\u001b[1;31mCommand: '\"c:/Users/ALI SAQUIB RAZA/AppData/Local/Microsoft/WindowsApps/python3.10.exe\" -m pip install ipykernel -U --force-reinstall'"
     ]
    }
   ],
   "source": [
    "from sklearn.model_selection import train_test_split\n",
    "X_train, X_test, Y_train, Y_test = train_test_split(features_final,outcome_r,test_size = 0.2,random_state = 42)\n",
    "print(X_train.shape[0])\n",
    "print(X_test.shape[0])"
   ]
  },
  {
   "cell_type": "code",
   "execution_count": null,
   "id": "6c54f5f9",
   "metadata": {
    "execution": {
     "iopub.execute_input": "2024-05-06T15:09:04.574673Z",
     "iopub.status.busy": "2024-05-06T15:09:04.573942Z",
     "iopub.status.idle": "2024-05-06T15:09:04.582570Z",
     "shell.execute_reply": "2024-05-06T15:09:04.581478Z"
    },
    "papermill": {
     "duration": 0.019632,
     "end_time": "2024-05-06T15:09:04.584617",
     "exception": false,
     "start_time": "2024-05-06T15:09:04.564985",
     "status": "completed"
    },
    "tags": []
   },
   "outputs": [
    {
     "ename": "",
     "evalue": "",
     "output_type": "error",
     "traceback": [
      "\u001b[1;31mRunning cells with 'Python 3.10.11 64-bit (microsoft store)' requires ipykernel package.\n",
      "\u001b[1;31mRun the following command to install 'ipykernel' into the Python environment. \n",
      "\u001b[1;31mCommand: '\"c:/Users/ALI SAQUIB RAZA/AppData/Local/Microsoft/WindowsApps/python3.10.exe\" -m pip install ipykernel -U --force-reinstall'"
     ]
    }
   ],
   "source": [
    "from time import time\n",
    "from sklearn.metrics import fbeta_score,accuracy_score\n",
    "def train_predict(learner,sample_size,X_train,Y_train,X_test,Y_test):\n",
    "    results = {}\n",
    "    start = time()\n",
    "    learner = learner.fit(X_train[:sample_size],Y_train[:sample_size])\n",
    "    end = time()\n",
    "    results['train_time'] = end - start\n",
    "    \n",
    "    #prediction on X_test and first 300 samples from X_train\n",
    "    \n",
    "    start = time()\n",
    "    predictions_test = learner.predict(X_test)\n",
    "    predictions_train = learner.predict(X_train[:300])\n",
    "    end = time()\n",
    "    results['pred_time'] = end - start\n",
    "    \n",
    "    results['acc_train'] = accuracy_score(Y_train[:300],predictions_train)\n",
    "    \n",
    "    results['acc_test'] = accuracy_score(Y_test,predictions_test)\n",
    "    \n",
    "    results['f_train'] = fbeta_score(Y_train[:300],predictions_train,pos_label = 1,average = 'binary',beta = 0.5)\n",
    "    \n",
    "    results['f_test'] = fbeta_score(Y_test,predictions_test,pos_label = 1,average = 'binary',beta = 0.5)\n",
    "    \n",
    "    print(\"{} trained on {} samples\".format(learner.__class__.__name__,sample_size))\n",
    "    \n",
    "    return results"
   ]
  },
  {
   "cell_type": "code",
   "execution_count": null,
   "id": "4f74c363",
   "metadata": {
    "execution": {
     "iopub.execute_input": "2024-05-06T15:09:04.602349Z",
     "iopub.status.busy": "2024-05-06T15:09:04.601970Z",
     "iopub.status.idle": "2024-05-06T15:09:05.759512Z",
     "shell.execute_reply": "2024-05-06T15:09:05.758599Z"
    },
    "papermill": {
     "duration": 1.169077,
     "end_time": "2024-05-06T15:09:05.761756",
     "exception": false,
     "start_time": "2024-05-06T15:09:04.592679",
     "status": "completed"
    },
    "tags": []
   },
   "outputs": [
    {
     "ename": "",
     "evalue": "",
     "output_type": "error",
     "traceback": [
      "\u001b[1;31mRunning cells with 'Python 3.10.11 64-bit (microsoft store)' requires ipykernel package.\n",
      "\u001b[1;31mRun the following command to install 'ipykernel' into the Python environment. \n",
      "\u001b[1;31mCommand: '\"c:/Users/ALI SAQUIB RAZA/AppData/Local/Microsoft/WindowsApps/python3.10.exe\" -m pip install ipykernel -U --force-reinstall'"
     ]
    }
   ],
   "source": [
    "# now passing algorithms one by one into the pipeline made above\n",
    "\n",
    "from sklearn.linear_model import LogisticRegression\n",
    "from sklearn.ensemble import RandomForestClassifier\n",
    "from sklearn.ensemble import AdaBoostClassifier\n",
    "from sklearn.tree import DecisionTreeClassifier\n",
    "\n",
    "#initialize the three models\n",
    "\n",
    "clf_a = LogisticRegression(random_state = 42)\n",
    "clf_b = RandomForestClassifier()\n",
    "clf_c = AdaBoostClassifier(DecisionTreeClassifier(max_depth = 5),random_state = 42)\n",
    "\n",
    "# number of samples for 1%, 10% and 100% of the sample set\n",
    "\n",
    "samples_100 = len(Y_train)\n",
    "samples_10 = int(0.1*samples_100)\n",
    "samples_1 = int(0.01*samples_100)\n",
    "\n",
    "results = {}\n",
    "for clf in [clf_a, clf_b, clf_c]:\n",
    "    clf_name = clf.__class__.__name__\n",
    "    results[clf_name] = {}\n",
    "    for i,samples in enumerate ([samples_1,samples_10,samples_100]):\n",
    "        results[clf_name][i] = train_predict(clf,samples,X_train,Y_train,X_test,Y_test)"
   ]
  },
  {
   "cell_type": "code",
   "execution_count": null,
   "id": "55dd1e92",
   "metadata": {
    "execution": {
     "iopub.execute_input": "2024-05-06T15:09:05.780429Z",
     "iopub.status.busy": "2024-05-06T15:09:05.779994Z",
     "iopub.status.idle": "2024-05-06T15:09:05.797271Z",
     "shell.execute_reply": "2024-05-06T15:09:05.796222Z"
    },
    "papermill": {
     "duration": 0.029244,
     "end_time": "2024-05-06T15:09:05.799593",
     "exception": false,
     "start_time": "2024-05-06T15:09:05.770349",
     "status": "completed"
    },
    "tags": []
   },
   "outputs": [
    {
     "ename": "",
     "evalue": "",
     "output_type": "error",
     "traceback": [
      "\u001b[1;31mRunning cells with 'Python 3.10.11 64-bit (microsoft store)' requires ipykernel package.\n",
      "\u001b[1;31mRun the following command to install 'ipykernel' into the Python environment. \n",
      "\u001b[1;31mCommand: '\"c:/Users/ALI SAQUIB RAZA/AppData/Local/Microsoft/WindowsApps/python3.10.exe\" -m pip install ipykernel -U --force-reinstall'"
     ]
    }
   ],
   "source": [
    "import matplotlib.patches as mpatches\n",
    "def evaluate(results, accuracy, f1):\n",
    "  \n",
    "    # Create figure\n",
    "    fig, ax = plt.subplots(2, 3, figsize = (11,7))\n",
    "\n",
    "    # Constants\n",
    "    bar_width = 0.3\n",
    "    colors = ['#A00000','#00A0A0','#00A000']\n",
    "    \n",
    "    # Super loop to plot four panels of data\n",
    "    for k, learner in enumerate(results.keys()):\n",
    "        for j, metric in enumerate(['train_time', 'acc_train', 'f_train', 'pred_time', 'acc_test', 'f_test']):\n",
    "            for i in np.arange(3):\n",
    "                \n",
    "                # Creative plot code\n",
    "                ax[j//3, j%3].bar(i+k*bar_width, results[learner][i][metric], width = bar_width, color = colors[k])\n",
    "                ax[j//3, j%3].set_xticks([0.45, 1.45, 2.45])\n",
    "                ax[j//3, j%3].set_xticklabels([\"1%\", \"10%\", \"100%\"])\n",
    "                ax[j//3, j%3].set_xlabel(\"Training Set Size\")\n",
    "                ax[j//3, j%3].set_xlim((-0.1, 3.0))\n",
    "    \n",
    "    # Add unique y-labels\n",
    "    ax[0, 0].set_ylabel(\"Time (in seconds)\")\n",
    "    ax[0, 1].set_ylabel(\"Accuracy Score\")\n",
    "    ax[0, 2].set_ylabel(\"F-score\")\n",
    "    ax[1, 0].set_ylabel(\"Time (in seconds)\")\n",
    "    ax[1, 1].set_ylabel(\"Accuracy Score\")\n",
    "    ax[1, 2].set_ylabel(\"F-score\")\n",
    "    \n",
    "    # Add titles\n",
    "    ax[0, 0].set_title(\"Model Training\")\n",
    "    ax[0, 1].set_title(\"Accuracy Score on Training Subset\")\n",
    "    ax[0, 2].set_title(\"F-score on Training Subset\")\n",
    "    ax[1, 0].set_title(\"Model Predicting\")\n",
    "    ax[1, 1].set_title(\"Accuracy Score on Testing Set\")\n",
    "    ax[1, 2].set_title(\"F-score on Testing Set\")\n",
    "    \n",
    "    # Add horizontal lines for naive predictors\n",
    "    ax[0, 1].axhline(y = accuracy, xmin = -0.1, xmax = 3.0, linewidth = 1, color = 'k', linestyle = 'dashed')\n",
    "    ax[1, 1].axhline(y = accuracy, xmin = -0.1, xmax = 3.0, linewidth = 1, color = 'k', linestyle = 'dashed')\n",
    "    ax[0, 2].axhline(y = f1, xmin = -0.1, xmax = 3.0, linewidth = 1, color = 'k', linestyle = 'dashed')\n",
    "    ax[1, 2].axhline(y = f1, xmin = -0.1, xmax = 3.0, linewidth = 1, color = 'k', linestyle = 'dashed')\n",
    "    \n",
    "    # Set y-limits for score panels\n",
    "    ax[0, 1].set_ylim((0, 1))\n",
    "    ax[0, 2].set_ylim((0, 1))\n",
    "    ax[1, 1].set_ylim((0, 1))\n",
    "    ax[1, 2].set_ylim((0, 1))\n",
    "\n",
    "    # Create patches for the legend\n",
    "    patches = []\n",
    "    for i, learner in enumerate(results.keys()):\n",
    "        patches.append(mpatches.Patch(color = colors[i], label = learner))\n",
    "    plt.legend(handles = patches, bbox_to_anchor = (-.80, 2.53), \\\n",
    "               loc = 'upper center', borderaxespad = 0., ncol = 3, fontsize = 'large')\n",
    "    \n",
    "    # Aesthetics\n",
    "    plt.suptitle(\"Performance Metrics for Three Supervised Learning Models\", fontsize = 16, y = 1.10)\n",
    "    plt.tight_layout()\n",
    "    plt.show()\n",
    "    "
   ]
  },
  {
   "cell_type": "code",
   "execution_count": null,
   "id": "1b2b0742",
   "metadata": {
    "execution": {
     "iopub.execute_input": "2024-05-06T15:09:05.818602Z",
     "iopub.status.busy": "2024-05-06T15:09:05.818240Z",
     "iopub.status.idle": "2024-05-06T15:09:05.825084Z",
     "shell.execute_reply": "2024-05-06T15:09:05.823840Z"
    },
    "papermill": {
     "duration": 0.019042,
     "end_time": "2024-05-06T15:09:05.827057",
     "exception": false,
     "start_time": "2024-05-06T15:09:05.808015",
     "status": "completed"
    },
    "tags": []
   },
   "outputs": [
    {
     "ename": "",
     "evalue": "",
     "output_type": "error",
     "traceback": [
      "\u001b[1;31mRunning cells with 'Python 3.10.11 64-bit (microsoft store)' requires ipykernel package.\n",
      "\u001b[1;31mRun the following command to install 'ipykernel' into the Python environment. \n",
      "\u001b[1;31mCommand: '\"c:/Users/ALI SAQUIB RAZA/AppData/Local/Microsoft/WindowsApps/python3.10.exe\" -m pip install ipykernel -U --force-reinstall'"
     ]
    }
   ],
   "source": [
    "#Calculate accuracy, precision and recall\n",
    "accuracy = n_1/n_records\n",
    "precision = n_1/n_records\n",
    "recall = np.sum(outcome_r)/np.sum(outcome_r)\n",
    "\n",
    "fscore = (1+np.square(0.5))*precision*recall/((np.square(0.5)*precision)+recall)\n",
    "\n",
    "print(\"Naive Predictor: [Accuracy score: {:.4f}, F-score: {:.4f}]\".format(accuracy, fscore))"
   ]
  },
  {
   "cell_type": "code",
   "execution_count": null,
   "id": "3add553d",
   "metadata": {
    "execution": {
     "iopub.execute_input": "2024-05-06T15:09:05.845545Z",
     "iopub.status.busy": "2024-05-06T15:09:05.845158Z",
     "iopub.status.idle": "2024-05-06T15:09:06.975571Z",
     "shell.execute_reply": "2024-05-06T15:09:06.974670Z"
    },
    "papermill": {
     "duration": 1.142433,
     "end_time": "2024-05-06T15:09:06.978034",
     "exception": false,
     "start_time": "2024-05-06T15:09:05.835601",
     "status": "completed"
    },
    "tags": []
   },
   "outputs": [
    {
     "ename": "",
     "evalue": "",
     "output_type": "error",
     "traceback": [
      "\u001b[1;31mRunning cells with 'Python 3.10.11 64-bit (microsoft store)' requires ipykernel package.\n",
      "\u001b[1;31mRun the following command to install 'ipykernel' into the Python environment. \n",
      "\u001b[1;31mCommand: '\"c:/Users/ALI SAQUIB RAZA/AppData/Local/Microsoft/WindowsApps/python3.10.exe\" -m pip install ipykernel -U --force-reinstall'"
     ]
    }
   ],
   "source": [
    "evaluate(results, accuracy, fscore)"
   ]
  },
  {
   "cell_type": "markdown",
   "id": "857143be",
   "metadata": {
    "papermill": {
     "duration": 0.009988,
     "end_time": "2024-05-06T15:09:06.998080",
     "exception": false,
     "start_time": "2024-05-06T15:09:06.988092",
     "status": "completed"
    },
    "tags": []
   },
   "source": [
    "# **Model Tuning**\n",
    "\n",
    "Model tuning involves adjusting the hyperparameters of the machine learning model to improve it's performance."
   ]
  },
  {
   "cell_type": "code",
   "execution_count": null,
   "id": "b267e1e3",
   "metadata": {
    "execution": {
     "iopub.execute_input": "2024-05-06T15:09:07.020560Z",
     "iopub.status.busy": "2024-05-06T15:09:07.019560Z",
     "iopub.status.idle": "2024-05-06T15:09:19.811151Z",
     "shell.execute_reply": "2024-05-06T15:09:19.809888Z"
    },
    "papermill": {
     "duration": 12.805207,
     "end_time": "2024-05-06T15:09:19.813430",
     "exception": false,
     "start_time": "2024-05-06T15:09:07.008223",
     "status": "completed"
    },
    "tags": []
   },
   "outputs": [
    {
     "ename": "",
     "evalue": "",
     "output_type": "error",
     "traceback": [
      "\u001b[1;31mRunning cells with 'Python 3.10.11 64-bit (microsoft store)' requires ipykernel package.\n",
      "\u001b[1;31mRun the following command to install 'ipykernel' into the Python environment. \n",
      "\u001b[1;31mCommand: '\"c:/Users/ALI SAQUIB RAZA/AppData/Local/Microsoft/WindowsApps/python3.10.exe\" -m pip install ipykernel -U --force-reinstall'"
     ]
    }
   ],
   "source": [
    "from sklearn.ensemble import RandomForestClassifier\n",
    "from sklearn.model_selection import GridSearchCV\n",
    "from sklearn.metrics import make_scorer, fbeta_score, accuracy_score\n",
    "\n",
    "clf = RandomForestClassifier(random_state=42)\n",
    "\n",
    "parameters = {'n_estimators':[50,100,150],'max_depth': [5, 10, 15, 20]}\n",
    "\n",
    "scorer = make_scorer(fbeta_score, beta=0.5)\n",
    "acc_scorer = make_scorer(accuracy_score)\n",
    "\n",
    "grid_obj = GridSearchCV(clf, parameters, scoring=scorer)\n",
    "\n",
    "#Fit the grid search object to the training data and find the optimal parameters using fit()\n",
    "grid_fit = grid_obj.fit(X_train, Y_train)\n",
    "\n",
    "#Get the best estimator for classifier\n",
    "best_clf = grid_fit.best_estimator_\n",
    "\n",
    "#Make predictions using the unoptimized and optimized classifiers\n",
    "predictions = clf.fit(X_train, Y_train).predict(X_test)\n",
    "best_predictions = best_clf.predict(X_test)\n",
    "\n",
    "print(\"Random Forest\")\n",
    "print(\"Unoptimized model accuracy: {:.4f}\".format(accuracy_score(Y_test, predictions)))\n",
    "print(\"Optimized model accuracy: {:.4f}\".format(accuracy_score(Y_test, best_predictions)))\n",
    "print(\"Unoptimized model F-score: {:.4f}\".format(fbeta_score(Y_test, predictions, beta=0.5)))\n",
    "print(\"Optimized model F-score: {:.4f}\".format(fbeta_score(Y_test, best_predictions, beta=0.5)))"
   ]
  },
  {
   "cell_type": "code",
   "execution_count": null,
   "id": "ea5308ae",
   "metadata": {
    "execution": {
     "iopub.execute_input": "2024-05-06T15:09:19.835688Z",
     "iopub.status.busy": "2024-05-06T15:09:19.834888Z",
     "iopub.status.idle": "2024-05-06T15:09:19.843489Z",
     "shell.execute_reply": "2024-05-06T15:09:19.842346Z"
    },
    "papermill": {
     "duration": 0.022056,
     "end_time": "2024-05-06T15:09:19.845614",
     "exception": false,
     "start_time": "2024-05-06T15:09:19.823558",
     "status": "completed"
    },
    "tags": []
   },
   "outputs": [
    {
     "ename": "",
     "evalue": "",
     "output_type": "error",
     "traceback": [
      "\u001b[1;31mRunning cells with 'Python 3.10.11 64-bit (microsoft store)' requires ipykernel package.\n",
      "\u001b[1;31mRun the following command to install 'ipykernel' into the Python environment. \n",
      "\u001b[1;31mCommand: '\"c:/Users/ALI SAQUIB RAZA/AppData/Local/Microsoft/WindowsApps/python3.10.exe\" -m pip install ipykernel -U --force-reinstall'"
     ]
    }
   ],
   "source": [
    "def feature_plot(importances, X_train, Y_train):\n",
    "    \n",
    "    # Display the three most important features\n",
    "    indices = np.argsort(importances)[::-1]\n",
    "    columns = X_train.columns.values[indices[:5]]\n",
    "    values = importances[indices][:5]\n",
    "\n",
    "    # Creat the plot\n",
    "    fig = plt.figure(figsize = (5,5))\n",
    "    plt.title(\"Normalized Weights for First Five Most Predictive Features\", fontsize = 16)\n",
    "    plt.bar(np.arange(5), values, width = 0.6, align=\"center\", color = '#00A000', \\\n",
    "          label = \"Feature Weight\")\n",
    "    plt.bar(np.arange(5) - 0.3, np.cumsum(values), width = 0.2, align = \"center\", color = '#00A0A0', \\\n",
    "          label = \"Cumulative Feature Weight\")\n",
    "    plt.xticks(np.arange(5), columns)\n",
    "    plt.xlim((-0.5, 4.5))\n",
    "    plt.ylabel(\"Weight\", fontsize = 12)\n",
    "    plt.xlabel(\"Feature\", fontsize = 12)\n",
    "    \n",
    "    plt.legend(loc = 'upper center')\n",
    "    plt.tight_layout()\n",
    "    plt.show()  "
   ]
  },
  {
   "cell_type": "code",
   "execution_count": null,
   "id": "c48b695f",
   "metadata": {
    "execution": {
     "iopub.execute_input": "2024-05-06T15:09:19.867578Z",
     "iopub.status.busy": "2024-05-06T15:09:19.866988Z",
     "iopub.status.idle": "2024-05-06T15:09:20.196631Z",
     "shell.execute_reply": "2024-05-06T15:09:20.195826Z"
    },
    "papermill": {
     "duration": 0.342543,
     "end_time": "2024-05-06T15:09:20.198375",
     "exception": false,
     "start_time": "2024-05-06T15:09:19.855832",
     "status": "completed"
    },
    "tags": []
   },
   "outputs": [
    {
     "ename": "",
     "evalue": "",
     "output_type": "error",
     "traceback": [
      "\u001b[1;31mRunning cells with 'Python 3.10.11 64-bit (microsoft store)' requires ipykernel package.\n",
      "\u001b[1;31mRun the following command to install 'ipykernel' into the Python environment. \n",
      "\u001b[1;31mCommand: '\"c:/Users/ALI SAQUIB RAZA/AppData/Local/Microsoft/WindowsApps/python3.10.exe\" -m pip install ipykernel -U --force-reinstall'"
     ]
    }
   ],
   "source": [
    "# Extracting important features\n",
    "model = best_clf\n",
    "importances = model.feature_importances_\n",
    "feature_plot(importances,X_train,Y_train)"
   ]
  },
  {
   "cell_type": "markdown",
   "id": "6e51c877",
   "metadata": {
    "papermill": {
     "duration": 0.010382,
     "end_time": "2024-05-06T15:09:20.219451",
     "exception": false,
     "start_time": "2024-05-06T15:09:20.209069",
     "status": "completed"
    },
    "tags": []
   },
   "source": [
    "# **Feature Selection**\n",
    "using a subset of the available features in the data can significantly reduce the training and prediction time of a model, but it may also effect the model's performance"
   ]
  },
  {
   "cell_type": "code",
   "execution_count": null,
   "id": "9a3bd43d",
   "metadata": {
    "execution": {
     "iopub.execute_input": "2024-05-06T15:09:20.242616Z",
     "iopub.status.busy": "2024-05-06T15:09:20.242225Z",
     "iopub.status.idle": "2024-05-06T15:09:20.357844Z",
     "shell.execute_reply": "2024-05-06T15:09:20.356362Z"
    },
    "papermill": {
     "duration": 0.130125,
     "end_time": "2024-05-06T15:09:20.360222",
     "exception": false,
     "start_time": "2024-05-06T15:09:20.230097",
     "status": "completed"
    },
    "tags": []
   },
   "outputs": [
    {
     "ename": "",
     "evalue": "",
     "output_type": "error",
     "traceback": [
      "\u001b[1;31mRunning cells with 'Python 3.10.11 64-bit (microsoft store)' requires ipykernel package.\n",
      "\u001b[1;31mRun the following command to install 'ipykernel' into the Python environment. \n",
      "\u001b[1;31mCommand: '\"c:/Users/ALI SAQUIB RAZA/AppData/Local/Microsoft/WindowsApps/python3.10.exe\" -m pip install ipykernel -U --force-reinstall'"
     ]
    }
   ],
   "source": [
    "from sklearn.base import clone\n",
    "\n",
    "X_train_reduced = X_train[X_train.columns.values[(np.argsort(importances)[::-1])[:3]]]\n",
    "X_test_reduced = X_test[X_test.columns.values[(np.argsort(importances)[::-1])[:3]]]\n",
    "\n",
    "clf = (clone(best_clf)).fit(X_train_reduced, Y_train)\n",
    "\n",
    "reduced_predictions = clf.predict(X_test_reduced)\n",
    "\n",
    "print(\"Final Model trained on full data\\n------\")\n",
    "print(\"Accuracy on testing data: {:.4f}\".format(accuracy_score(Y_test, best_predictions)))\n",
    "print(\"F-score on testing data: {:.4f}\".format(fbeta_score(Y_test, best_predictions, beta = 0.5)))\n",
    "print(\"\\nFinal Model trained on reduced data\\n------\")\n",
    "print(\"Accuracy on testing data: {:.4f}\".format(accuracy_score(Y_test, reduced_predictions)))\n",
    "print(\"F-score on testing data: {:.4f}\".format(fbeta_score(Y_test, reduced_predictions, beta = 0.5)))"
   ]
  },
  {
   "cell_type": "code",
   "execution_count": null,
   "id": "fca081d9",
   "metadata": {
    "execution": {
     "iopub.execute_input": "2024-05-06T15:09:20.383999Z",
     "iopub.status.busy": "2024-05-06T15:09:20.383641Z",
     "iopub.status.idle": "2024-05-06T15:09:20.391899Z",
     "shell.execute_reply": "2024-05-06T15:09:20.390975Z"
    },
    "papermill": {
     "duration": 0.022755,
     "end_time": "2024-05-06T15:09:20.394101",
     "exception": false,
     "start_time": "2024-05-06T15:09:20.371346",
     "status": "completed"
    },
    "tags": []
   },
   "outputs": [
    {
     "ename": "",
     "evalue": "",
     "output_type": "error",
     "traceback": [
      "\u001b[1;31mRunning cells with 'Python 3.10.11 64-bit (microsoft store)' requires ipykernel package.\n",
      "\u001b[1;31mRun the following command to install 'ipykernel' into the Python environment. \n",
      "\u001b[1;31mCommand: '\"c:/Users/ALI SAQUIB RAZA/AppData/Local/Microsoft/WindowsApps/python3.10.exe\" -m pip install ipykernel -U --force-reinstall'"
     ]
    }
   ],
   "source": [
    "import pickle\n",
    "pickle_out = open('trained_model.sav','wb')\n",
    "pickle.dump(best_clf, pickle_out)\n",
    "pickle_out.close()"
   ]
  },
  {
   "cell_type": "code",
   "execution_count": null,
   "id": "68950cb8",
   "metadata": {
    "papermill": {
     "duration": 0.010429,
     "end_time": "2024-05-06T15:09:20.415746",
     "exception": false,
     "start_time": "2024-05-06T15:09:20.405317",
     "status": "completed"
    },
    "tags": []
   },
   "outputs": [
    {
     "ename": "",
     "evalue": "",
     "output_type": "error",
     "traceback": [
      "\u001b[1;31mRunning cells with 'Python 3.10.11 64-bit (microsoft store)' requires ipykernel package.\n",
      "\u001b[1;31mRun the following command to install 'ipykernel' into the Python environment. \n",
      "\u001b[1;31mCommand: '\"c:/Users/ALI SAQUIB RAZA/AppData/Local/Microsoft/WindowsApps/python3.10.exe\" -m pip install ipykernel -U --force-reinstall'"
     ]
    }
   ],
   "source": []
  }
 ],
 "metadata": {
  "kaggle": {
   "accelerator": "none",
   "dataSources": [
    {
     "datasetId": 2527538,
     "sourceId": 4289678,
     "sourceType": "datasetVersion"
    }
   ],
   "dockerImageVersionId": 30698,
   "isGpuEnabled": false,
   "isInternetEnabled": true,
   "language": "python",
   "sourceType": "notebook"
  },
  "kernelspec": {
   "display_name": "Python 3.10.11 64-bit (microsoft store)",
   "language": "python",
   "name": "python3"
  },
  "language_info": {
   "codemirror_mode": {
    "name": "ipython",
    "version": 3
   },
   "file_extension": ".py",
   "mimetype": "text/x-python",
   "name": "python",
   "nbconvert_exporter": "python",
   "pygments_lexer": "ipython3",
   "version": "3.10.11"
  },
  "papermill": {
   "default_parameters": {},
   "duration": 22.130086,
   "end_time": "2024-05-06T15:09:21.046852",
   "environment_variables": {},
   "exception": null,
   "input_path": "__notebook__.ipynb",
   "output_path": "__notebook__.ipynb",
   "parameters": {},
   "start_time": "2024-05-06T15:08:58.916766",
   "version": "2.5.0"
  },
  "vscode": {
   "interpreter": {
    "hash": "ea98b795fd08bf0b29e5ad3a4ccdd3230bd573a4aad8bd951b72e9afa50e66cb"
   }
  }
 },
 "nbformat": 4,
 "nbformat_minor": 5
}
